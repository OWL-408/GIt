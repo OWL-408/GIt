{
 "cells": [
  {
   "cell_type": "markdown",
   "id": "749465a0",
   "metadata": {},
   "source": [
    "NoteBookの説明\n",
    "Git Hubリポジトリのクローンを行なう手段を明記するものである\n",
    "具体的には\n",
    "1.クローン元のGitHubリポジトリを参照し”Code>クローン>URL取得\"\n",
    "2.Git bashあるいはターミナルより保存先としたいディレクトリへ移動\n",
    "3.Git bashで保存先ディレクトリへ1のURL指定しダウンロード（ローカルクローン）\n",
    "4.Git bashでクローンしたGit情報を削除\n",
    "5.Webサイトから自身のGit Hub上にクローン先の新規リポジトリを作成しURL取得\n",
    "6.Git bashからクローン先URL指定しアップロード完了"
   ]
  },
  {
   "cell_type": "code",
   "execution_count": null,
   "id": "429e249b",
   "metadata": {
    "vscode": {
     "languageId": "plaintext"
    }
   },
   "outputs": [],
   "source": [
    "#保存先ディレクトリへの移動\n",
    "#Git bash\n",
    "cd #保存先ディレクトリのパス（階層間は/で表現すること）"
   ]
  },
  {
   "cell_type": "code",
   "execution_count": null,
   "id": "59fbe9ad",
   "metadata": {
    "vscode": {
     "languageId": "plaintext"
    }
   },
   "outputs": [],
   "source": [
    "#ローカルクローン\n",
    "#Git bash\n",
    "git clone #URL(クローン元)"
   ]
  },
  {
   "cell_type": "code",
   "execution_count": null,
   "id": "5199aec2",
   "metadata": {
    "vscode": {
     "languageId": "plaintext"
    }
   },
   "outputs": [],
   "source": [
    "#クローン元情報の削除（直下にgitファイルのあるディレクトリ上で実行のこと）\n",
    "#git bash\n",
    "git remote remove origin"
   ]
  },
  {
   "cell_type": "code",
   "execution_count": null,
   "id": "6033b3c9",
   "metadata": {
    "vscode": {
     "languageId": "plaintext"
    }
   },
   "outputs": [],
   "source": [
    "#クローン先情報への書き換え\n",
    "#まずはWeb Git Hubでクローン先のリポジトリを新規作成しURL取得\n",
    "#Git bash\n",
    "git remote add origin #URL(クローン先の自身リポジトリ)"
   ]
  },
  {
   "cell_type": "code",
   "execution_count": null,
   "id": "eeb65eee",
   "metadata": {
    "vscode": {
     "languageId": "plaintext"
    }
   },
   "outputs": [],
   "source": [
    "#Git Hubへのアップロード\n",
    "#git bash\n",
    "git push -u origin main"
   ]
  }
 ],
 "metadata": {
  "language_info": {
   "name": "python"
  }
 },
 "nbformat": 4,
 "nbformat_minor": 5
}
