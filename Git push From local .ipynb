{
 "cells": [
  {
   "cell_type": "code",
   "execution_count": null,
   "id": "c739a98f",
   "metadata": {},
   "outputs": [],
   "source": [
    "NoteBookの説明\n",
    "ローカルディレクトリをまとめてGit HubリポジトリへPushを行なう手段を明記するものである\n",
    "具体的には\n",
    "1.ローカルディレクトリを用意する\n",
    "2.Web Git Hub上に新規リポジトリを作成する\n",
    "3.ディレクトリをgit管理化に置く\n",
    "4.コミットする\n",
    "5.リポジトリ紐づけ\n",
    "6.ブランチを作成する\n",
    "7.プッシュしアップロードする\n",
    "　"
   ]
  },
  {
   "cell_type": "code",
   "execution_count": null,
   "id": "f8493c3e",
   "metadata": {},
   "outputs": [],
   "source": [
    "#git bash\n",
    "cd #\"/c/・・・（アップロード対象のディレクトリへ移動）"
   ]
  },
  {
   "cell_type": "code",
   "execution_count": null,
   "id": "76b4f33f",
   "metadata": {},
   "outputs": [],
   "source": [
    "#git bash\n",
    "git init"
   ]
  },
  {
   "cell_type": "code",
   "execution_count": null,
   "id": "ab732947",
   "metadata": {},
   "outputs": [],
   "source": [
    "#git bash\n",
    "git add .\n",
    "# .により、ディレクトリ内の全てのファイルを追加することができる"
   ]
  },
  {
   "cell_type": "code",
   "execution_count": null,
   "id": "39e3ada4",
   "metadata": {},
   "outputs": [],
   "source": [
    "#git bash\n",
    "git commit -m \"Initial commit\""
   ]
  },
  {
   "cell_type": "code",
   "execution_count": null,
   "id": "22502d16",
   "metadata": {},
   "outputs": [],
   "source": [
    "#git bash\n",
    "git remote add origin #リポジトリリンク"
   ]
  },
  {
   "cell_type": "code",
   "execution_count": null,
   "id": "8b007e02",
   "metadata": {},
   "outputs": [],
   "source": [
    "#git bash\n",
    "git branch -M main"
   ]
  },
  {
   "cell_type": "code",
   "execution_count": null,
   "id": "e8343fd2",
   "metadata": {},
   "outputs": [],
   "source": [
    "#git bash\n",
    "git push -u origin main"
   ]
  },
  {
   "cell_type": "code",
   "execution_count": null,
   "id": "1a17d395",
   "metadata": {},
   "outputs": [],
   "source": [
    "#アップロード先にすでにファイルがありWebとローカルで差異がある場合アップロードできない\n",
    "#この場合、Web上の内容をローカルで上書きで良い場合は下記\n",
    "git push -f origin main"
   ]
  },
  {
   "cell_type": "code",
   "execution_count": null,
   "id": "b9824cc4",
   "metadata": {},
   "outputs": [],
   "source": []
  }
 ],
 "metadata": {
  "language_info": {
   "name": "python"
  }
 },
 "nbformat": 4,
 "nbformat_minor": 5
}
